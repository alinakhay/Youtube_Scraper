{
 "cells": [
  {
   "cell_type": "code",
   "execution_count": 5,
   "metadata": {
    "ExecuteTime": {
     "end_time": "2021-07-18T19:20:51.362849Z",
     "start_time": "2021-07-18T19:20:51.357849Z"
    }
   },
   "outputs": [],
   "source": [
    "# !pip3 install pytube"
   ]
  },
  {
   "cell_type": "code",
   "execution_count": 4,
   "metadata": {
    "ExecuteTime": {
     "end_time": "2021-07-18T19:20:49.498434Z",
     "start_time": "2021-07-18T19:20:49.493440Z"
    }
   },
   "outputs": [],
   "source": [
    "from pytube import YouTube"
   ]
  },
  {
   "cell_type": "code",
   "execution_count": 10,
   "metadata": {
    "ExecuteTime": {
     "end_time": "2021-07-18T19:24:17.294340Z",
     "start_time": "2021-07-18T19:24:17.285374Z"
    }
   },
   "outputs": [],
   "source": [
    "#link = input(\"Enter Link of Youtube Video: \")\n",
    "link = 'https://www.youtube.com/watch?v=vBHild0PiTE'\n",
    "yt = YouTube(link)"
   ]
  },
  {
   "cell_type": "markdown",
   "metadata": {},
   "source": [
    "Now, as we have taken the link of a youtube video as an input, we will run the program while scraping some information about the video. Now, I will write some necessary functions that we can use for scraping youtube with python by using pytube module:"
   ]
  },
  {
   "cell_type": "code",
   "execution_count": 11,
   "metadata": {
    "ExecuteTime": {
     "end_time": "2021-07-18T19:24:20.572045Z",
     "start_time": "2021-07-18T19:24:19.574570Z"
    }
   },
   "outputs": [
    {
     "name": "stdout",
     "output_type": "stream",
     "text": [
      "Title : Lana Del Rey - Chemtrails Over The Country Club (Official Music Video)\n",
      "Views : 20535726\n",
      "Duration : 341\n",
      "Description : Chemtrails Over The Country Club - The New Album is out now \n",
      "https://Lana.lnk.to/ChemtrailsOverTheCountryClub\n",
      "\n",
      "Lana Del Rey - Chemtrails Over The Country Club (Official Music Video)\n",
      "\n",
      "Follow Lana Del Rey:\n",
      "http://www.instagram.com/lanadelrey\n",
      "http://www.facebook.com/lanadelrey\n",
      "http://www.twitter.com/lanadelrey\n",
      "http://lanadelrey.tumblr.com\n",
      "\n",
      "https://LanaDelRey.com\n",
      "\n",
      "Lana Del Rey - Chemtrails Over The Country Club (Lyrics)\n",
      "\n",
      "I'm on the run with you, my sweet love\n",
      "There's nothing wrong contemplating God\n",
      "Under the chemtrails over the country club\n",
      "Wearin' our jewels in the swimming pool\n",
      "Me and my sister just playin' it cool\n",
      "Under the chemtrails over the country club\n",
      "\n",
      "Take out your turquoise and all of your jewels\n",
      "Go to the market, the kids' swimming pools\n",
      "Baby, what's your sign?\n",
      "My moon's in Leo, my Cancer is sun\n",
      "You won't play, you're no fun\n",
      "Well, I don't care what they think\n",
      "Drag racing my little red sports car\n",
      "I'm not unhinged or unhappy, I'm just wild\n",
      "\n",
      "I'm on the run with you, my sweet love\n",
      "There's nothing wrong contemplating God\n",
      "Under the chemtrails over the country club\n",
      "Wearin' our jewels in the swimming pool\n",
      "Me and my sister just playin' it cool\n",
      "Under the chemtrails over the country club\n",
      "\n",
      "Meet you for coffee at the elementary schools\n",
      "We laugh about nothing as the summer gets cool\n",
      "It's beautiful how this deep normality settles down over me\n",
      "I'm not bored or unhappy, I'm still so strange and wild\n",
      "\n",
      "You're in the wind, I'm in the water\n",
      "Nobody's son, nobody's daughter\n",
      "Watching the chemtrails over the country club\n",
      "Suburbia, The Brentwood Market\n",
      "What to do next? Maybe we'll love it\n",
      "White picket chemtrails over the country club\n",
      "\n",
      "My love, my love\n",
      "\n",
      "Washing my hair, doing the laundry\n",
      "Late night TV, I want you on me\n",
      "Like when we were kids under chemtrails and country clubs\n",
      "It's never too late, baby, so don't give up\n",
      "It's never too late, baby, so don't give up\n",
      "Under the chemtrails over the country club, yeah (You're born in December and I'm born in June)\n",
      "Under the chemtrails, over the country club, yeah (You're born in December and I'm born in June)\n",
      "\n",
      "My Cancer is sun and my Leo is moon\n",
      "My Cancer is sun and my Leo is moon\n",
      "\n",
      "Music video by Lana Del Rey performing Chemtrails Over The Country Club. © 2021 Lana Del Rey, under exclusive licence to Universal Music Operations Limited\n",
      "\n",
      "http://vevo.ly/mC5fVM\n",
      "Ratings : 4.9045844\n"
     ]
    }
   ],
   "source": [
    "# To print title\n",
    "print(\"Title :\", yt.title)\n",
    "# To get number of views\n",
    "print(\"Views :\", yt.views)\n",
    "# To get the length of video\n",
    "print(\"Duration :\", yt.length)\n",
    "# To get description\n",
    "print(\"Description :\", yt.description)\n",
    "# To get ratings\n",
    "print(\"Ratings :\", yt.rating)"
   ]
  },
  {
   "cell_type": "markdown",
   "metadata": {},
   "source": [
    "# Downloading Youtube Video\n"
   ]
  },
  {
   "cell_type": "markdown",
   "metadata": {},
   "source": [
    "The task of scraping youtube with python will be left incomplete if we do not know how to download the youtube video. It’s obvious that we are more considered about the data, but still, if you want to see how we can download the youtube video using python then you can use the code below:"
   ]
  },
  {
   "cell_type": "code",
   "execution_count": 12,
   "metadata": {
    "ExecuteTime": {
     "end_time": "2021-07-18T19:25:44.635712Z",
     "start_time": "2021-07-18T19:25:40.422107Z"
    }
   },
   "outputs": [
    {
     "name": "stdout",
     "output_type": "stream",
     "text": [
      "Download completed!!\n"
     ]
    }
   ],
   "source": [
    "stream = yt.streams.get_highest_resolution()\n",
    "stream.download()\n",
    "print(\"Download completed!!\")"
   ]
  },
  {
   "cell_type": "markdown",
   "metadata": {},
   "source": [
    "The video will be downloaded and saved in the same directory where your python file is. I hope you liked this article on Scraping youtube with Python. Feel free to ask your valuable questions in the comments section below. You can also follow me on Medium to learn every topic of Machine Learning and Python."
   ]
  },
  {
   "cell_type": "code",
   "execution_count": null,
   "metadata": {},
   "outputs": [],
   "source": []
  }
 ],
 "metadata": {
  "kernelspec": {
   "display_name": "Python 3",
   "language": "python",
   "name": "python3"
  },
  "language_info": {
   "codemirror_mode": {
    "name": "ipython",
    "version": 3
   },
   "file_extension": ".py",
   "mimetype": "text/x-python",
   "name": "python",
   "nbconvert_exporter": "python",
   "pygments_lexer": "ipython3",
   "version": "3.7.6"
  },
  "toc": {
   "base_numbering": 1,
   "nav_menu": {},
   "number_sections": true,
   "sideBar": true,
   "skip_h1_title": false,
   "title_cell": "Table of Contents",
   "title_sidebar": "Contents",
   "toc_cell": false,
   "toc_position": {},
   "toc_section_display": true,
   "toc_window_display": false
  }
 },
 "nbformat": 4,
 "nbformat_minor": 4
}
